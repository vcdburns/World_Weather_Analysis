{
 "cells": [
  {
   "cell_type": "code",
   "execution_count": 1,
   "id": "9e8a5ef7",
   "metadata": {},
   "outputs": [],
   "source": [
    "# Import the dependencies\n",
    "\n",
    "import pandas as pd\n",
    "\n",
    "import gmaps\n",
    "\n",
    "import requests\n",
    "\n",
    "# Import the API key.\n",
    "\n",
    "from config import g_key"
   ]
  },
  {
   "cell_type": "code",
   "execution_count": 2,
   "id": "633625f6",
   "metadata": {},
   "outputs": [
    {
     "data": {
      "text/html": [
       "<div>\n",
       "<style scoped>\n",
       "    .dataframe tbody tr th:only-of-type {\n",
       "        vertical-align: middle;\n",
       "    }\n",
       "\n",
       "    .dataframe tbody tr th {\n",
       "        vertical-align: top;\n",
       "    }\n",
       "\n",
       "    .dataframe thead th {\n",
       "        text-align: right;\n",
       "    }\n",
       "</style>\n",
       "<table border=\"1\" class=\"dataframe\">\n",
       "  <thead>\n",
       "    <tr style=\"text-align: right;\">\n",
       "      <th></th>\n",
       "      <th>City_ID</th>\n",
       "      <th>City</th>\n",
       "      <th>Country</th>\n",
       "      <th>Date</th>\n",
       "      <th>Lat</th>\n",
       "      <th>Lng</th>\n",
       "      <th>Max Temp</th>\n",
       "      <th>Humidity</th>\n",
       "      <th>Cloudiness</th>\n",
       "      <th>Wind Speed</th>\n",
       "    </tr>\n",
       "  </thead>\n",
       "  <tbody>\n",
       "    <tr>\n",
       "      <th>0</th>\n",
       "      <td>0</td>\n",
       "      <td>Jamestown</td>\n",
       "      <td>US</td>\n",
       "      <td>2022-07-01 21:33:18</td>\n",
       "      <td>42.0970</td>\n",
       "      <td>-79.2353</td>\n",
       "      <td>83.05</td>\n",
       "      <td>63</td>\n",
       "      <td>40</td>\n",
       "      <td>9.22</td>\n",
       "    </tr>\n",
       "    <tr>\n",
       "      <th>1</th>\n",
       "      <td>1</td>\n",
       "      <td>Port Alfred</td>\n",
       "      <td>ZA</td>\n",
       "      <td>2022-07-01 21:37:59</td>\n",
       "      <td>-33.5906</td>\n",
       "      <td>26.8910</td>\n",
       "      <td>67.80</td>\n",
       "      <td>42</td>\n",
       "      <td>0</td>\n",
       "      <td>14.12</td>\n",
       "    </tr>\n",
       "    <tr>\n",
       "      <th>2</th>\n",
       "      <td>2</td>\n",
       "      <td>Barrow</td>\n",
       "      <td>US</td>\n",
       "      <td>2022-07-01 21:34:24</td>\n",
       "      <td>71.2906</td>\n",
       "      <td>-156.7887</td>\n",
       "      <td>46.42</td>\n",
       "      <td>71</td>\n",
       "      <td>0</td>\n",
       "      <td>11.50</td>\n",
       "    </tr>\n",
       "    <tr>\n",
       "      <th>3</th>\n",
       "      <td>3</td>\n",
       "      <td>Qaanaaq</td>\n",
       "      <td>GL</td>\n",
       "      <td>2022-07-01 21:38:00</td>\n",
       "      <td>77.4840</td>\n",
       "      <td>-69.3632</td>\n",
       "      <td>42.71</td>\n",
       "      <td>68</td>\n",
       "      <td>66</td>\n",
       "      <td>4.45</td>\n",
       "    </tr>\n",
       "    <tr>\n",
       "      <th>4</th>\n",
       "      <td>4</td>\n",
       "      <td>Atuona</td>\n",
       "      <td>PF</td>\n",
       "      <td>2022-07-01 21:38:00</td>\n",
       "      <td>-9.8000</td>\n",
       "      <td>-139.0333</td>\n",
       "      <td>77.36</td>\n",
       "      <td>73</td>\n",
       "      <td>3</td>\n",
       "      <td>8.37</td>\n",
       "    </tr>\n",
       "  </tbody>\n",
       "</table>\n",
       "</div>"
      ],
      "text/plain": [
       "   City_ID         City Country                 Date      Lat       Lng  \\\n",
       "0        0    Jamestown      US  2022-07-01 21:33:18  42.0970  -79.2353   \n",
       "1        1  Port Alfred      ZA  2022-07-01 21:37:59 -33.5906   26.8910   \n",
       "2        2       Barrow      US  2022-07-01 21:34:24  71.2906 -156.7887   \n",
       "3        3      Qaanaaq      GL  2022-07-01 21:38:00  77.4840  -69.3632   \n",
       "4        4       Atuona      PF  2022-07-01 21:38:00  -9.8000 -139.0333   \n",
       "\n",
       "   Max Temp  Humidity  Cloudiness  Wind Speed  \n",
       "0     83.05        63          40        9.22  \n",
       "1     67.80        42           0       14.12  \n",
       "2     46.42        71           0       11.50  \n",
       "3     42.71        68          66        4.45  \n",
       "4     77.36        73           3        8.37  "
      ]
     },
     "execution_count": 2,
     "metadata": {},
     "output_type": "execute_result"
    }
   ],
   "source": [
    "# Store the CSV you saved created in the part one into a DataFrame\n",
    "\n",
    "city_data_df = pd.read_csv(\"weather_data/cities.csv\")\n",
    "\n",
    "city_data_df.head()"
   ]
  },
  {
   "cell_type": "code",
   "execution_count": 3,
   "id": "cc6ab752",
   "metadata": {},
   "outputs": [
    {
     "data": {
      "text/plain": [
       "City_ID         int64\n",
       "City           object\n",
       "Country        object\n",
       "Date           object\n",
       "Lat           float64\n",
       "Lng           float64\n",
       "Max Temp      float64\n",
       "Humidity        int64\n",
       "Cloudiness      int64\n",
       "Wind Speed    float64\n",
       "dtype: object"
      ]
     },
     "execution_count": 3,
     "metadata": {},
     "output_type": "execute_result"
    }
   ],
   "source": [
    "# Get the data types.\n",
    "\n",
    "city_data_df.dtypes"
   ]
  },
  {
   "cell_type": "code",
   "execution_count": 4,
   "id": "e3a00d4d",
   "metadata": {},
   "outputs": [],
   "source": [
    "# Configure gmaps to use your google API key.\n",
    "\n",
    "gmaps.configure(api_key=g_key)"
   ]
  },
  {
   "cell_type": "code",
   "execution_count": 5,
   "id": "445247f1",
   "metadata": {},
   "outputs": [],
   "source": [
    "# Get the maximum temperature.\n",
    "\n",
    "max_temp = city_data_df[\"Max Temp\"]\n",
    "\n",
    "temps = []\n",
    "\n",
    "for temp in max_temp:\n",
    "\n",
    "    temps.append(max(temp, 0))"
   ]
  },
  {
   "cell_type": "code",
   "execution_count": 7,
   "id": "0826d296",
   "metadata": {},
   "outputs": [
    {
     "data": {
      "application/vnd.jupyter.widget-view+json": {
       "model_id": "ff2f145814a149dcacf99ffa71ec625c",
       "version_major": 2,
       "version_minor": 0
      },
      "text/plain": [
       "Figure(layout=FigureLayout(height='420px'))"
      ]
     },
     "metadata": {},
     "output_type": "display_data"
    }
   ],
   "source": [
    "# Heatmap of temperature\n",
    "\n",
    "# Get the latitude and longitude.\n",
    "\n",
    "locations = city_data_df[[\"Lat\", \"Lng\"]]\n",
    "\n",
    "# Get the maximum temperature.\n",
    "\n",
    "max_temp = city_data_df[\"Max Temp\"]\n",
    "\n",
    "# Assign the figure variable.\n",
    "\n",
    "fig = gmaps.figure()\n",
    "\n",
    "# Assign the heatmap variable.\n",
    "\n",
    "heat_layer = gmaps.heatmap_layer(locations, weights=max_temp)\n",
    "\n",
    "# Add the heatmap layer.\n",
    "\n",
    "fig.add_layer(heat_layer)\n",
    "\n",
    "# Call the figure to plot the data.\n",
    "\n",
    "fig"
   ]
  },
  {
   "cell_type": "code",
   "execution_count": 8,
   "id": "9bf7590a",
   "metadata": {},
   "outputs": [],
   "source": [
    "# Get the maximum temperature.\n",
    "max_temp = city_data_df[\"Max Temp\"]\n",
    "temps = []\n",
    "for temp in max_temp:\n",
    "    temps.append(max(temp, 0))"
   ]
  },
  {
   "cell_type": "code",
   "execution_count": null,
   "id": "5b764653",
   "metadata": {},
   "outputs": [],
   "source": []
  }
 ],
 "metadata": {
  "kernelspec": {
   "display_name": "PythonData",
   "language": "python",
   "name": "pythondata"
  },
  "language_info": {
   "codemirror_mode": {
    "name": "ipython",
    "version": 3
   },
   "file_extension": ".py",
   "mimetype": "text/x-python",
   "name": "python",
   "nbconvert_exporter": "python",
   "pygments_lexer": "ipython3",
   "version": "3.7.13"
  }
 },
 "nbformat": 4,
 "nbformat_minor": 5
}
